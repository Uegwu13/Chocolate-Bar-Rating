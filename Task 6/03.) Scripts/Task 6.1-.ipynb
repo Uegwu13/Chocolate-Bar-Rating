{
 "cells": [
  {
   "cell_type": "code",
   "execution_count": 1,
   "id": "56cf7ad9",
   "metadata": {},
   "outputs": [],
   "source": [
    "# Import libraries\n",
    "import pandas as pd\n",
    "import numpy as np\n",
    "import os"
   ]
  },
  {
   "cell_type": "code",
   "execution_count": 4,
   "id": "f44ee616",
   "metadata": {},
   "outputs": [],
   "source": [
    "path= r'C:\\Users\\13472\\Documents\\Task 6'"
   ]
  },
  {
   "cell_type": "code",
   "execution_count": 5,
   "id": "fb4a95ee",
   "metadata": {},
   "outputs": [],
   "source": [
    "df_cacao= pd.read_csv(os.path.join(path,'01. Original data','flavors_of_cacao- U.E.csv'), index_col = False)"
   ]
  },
  {
   "cell_type": "markdown",
   "id": "90798120",
   "metadata": {},
   "source": [
    "# Exploring Data"
   ]
  },
  {
   "cell_type": "code",
   "execution_count": 7,
   "id": "668c8f91",
   "metadata": {},
   "outputs": [
    {
     "data": {
      "text/html": [
       "<div>\n",
       "<style scoped>\n",
       "    .dataframe tbody tr th:only-of-type {\n",
       "        vertical-align: middle;\n",
       "    }\n",
       "\n",
       "    .dataframe tbody tr th {\n",
       "        vertical-align: top;\n",
       "    }\n",
       "\n",
       "    .dataframe thead th {\n",
       "        text-align: right;\n",
       "    }\n",
       "</style>\n",
       "<table border=\"1\" class=\"dataframe\">\n",
       "  <thead>\n",
       "    <tr style=\"text-align: right;\">\n",
       "      <th></th>\n",
       "      <th>Company \\n(Maker-if known)</th>\n",
       "      <th>Specific Bean Origin\\nor Bar Name</th>\n",
       "      <th>REF</th>\n",
       "      <th>Review\\nDate</th>\n",
       "      <th>Cocoa\\nPercent</th>\n",
       "      <th>Company\\nLocation</th>\n",
       "      <th>Rating</th>\n",
       "      <th>Bean\\nType</th>\n",
       "      <th>Broad Bean\\nOrigin</th>\n",
       "    </tr>\n",
       "  </thead>\n",
       "  <tbody>\n",
       "    <tr>\n",
       "      <th>0</th>\n",
       "      <td>A. Morin</td>\n",
       "      <td>Agua Grande</td>\n",
       "      <td>1876</td>\n",
       "      <td>2016</td>\n",
       "      <td>63%</td>\n",
       "      <td>France</td>\n",
       "      <td>3.75</td>\n",
       "      <td></td>\n",
       "      <td>Sao Tome</td>\n",
       "    </tr>\n",
       "    <tr>\n",
       "      <th>1</th>\n",
       "      <td>A. Morin</td>\n",
       "      <td>Kpime</td>\n",
       "      <td>1676</td>\n",
       "      <td>2015</td>\n",
       "      <td>70%</td>\n",
       "      <td>France</td>\n",
       "      <td>2.75</td>\n",
       "      <td></td>\n",
       "      <td>Togo</td>\n",
       "    </tr>\n",
       "    <tr>\n",
       "      <th>2</th>\n",
       "      <td>A. Morin</td>\n",
       "      <td>Atsane</td>\n",
       "      <td>1676</td>\n",
       "      <td>2015</td>\n",
       "      <td>70%</td>\n",
       "      <td>France</td>\n",
       "      <td>3.00</td>\n",
       "      <td></td>\n",
       "      <td>Togo</td>\n",
       "    </tr>\n",
       "    <tr>\n",
       "      <th>3</th>\n",
       "      <td>A. Morin</td>\n",
       "      <td>Akata</td>\n",
       "      <td>1680</td>\n",
       "      <td>2015</td>\n",
       "      <td>70%</td>\n",
       "      <td>France</td>\n",
       "      <td>3.50</td>\n",
       "      <td></td>\n",
       "      <td>Togo</td>\n",
       "    </tr>\n",
       "    <tr>\n",
       "      <th>4</th>\n",
       "      <td>A. Morin</td>\n",
       "      <td>Quilla</td>\n",
       "      <td>1704</td>\n",
       "      <td>2015</td>\n",
       "      <td>70%</td>\n",
       "      <td>France</td>\n",
       "      <td>3.50</td>\n",
       "      <td></td>\n",
       "      <td>Peru</td>\n",
       "    </tr>\n",
       "  </tbody>\n",
       "</table>\n",
       "</div>"
      ],
      "text/plain": [
       "  Company \\n(Maker-if known) Specific Bean Origin\\nor Bar Name   REF  \\\n",
       "0                   A. Morin                       Agua Grande  1876   \n",
       "1                   A. Morin                             Kpime  1676   \n",
       "2                   A. Morin                            Atsane  1676   \n",
       "3                   A. Morin                             Akata  1680   \n",
       "4                   A. Morin                            Quilla  1704   \n",
       "\n",
       "   Review\\nDate Cocoa\\nPercent Company\\nLocation  Rating Bean\\nType  \\\n",
       "0          2016            63%            France    3.75              \n",
       "1          2015            70%            France    2.75              \n",
       "2          2015            70%            France    3.00              \n",
       "3          2015            70%            France    3.50              \n",
       "4          2015            70%            France    3.50              \n",
       "\n",
       "  Broad Bean\\nOrigin  \n",
       "0           Sao Tome  \n",
       "1               Togo  \n",
       "2               Togo  \n",
       "3               Togo  \n",
       "4               Peru  "
      ]
     },
     "execution_count": 7,
     "metadata": {},
     "output_type": "execute_result"
    }
   ],
   "source": [
    "df_cacao.head()"
   ]
  },
  {
   "cell_type": "code",
   "execution_count": 8,
   "id": "3d6541a0",
   "metadata": {},
   "outputs": [
    {
     "data": {
      "text/html": [
       "<div>\n",
       "<style scoped>\n",
       "    .dataframe tbody tr th:only-of-type {\n",
       "        vertical-align: middle;\n",
       "    }\n",
       "\n",
       "    .dataframe tbody tr th {\n",
       "        vertical-align: top;\n",
       "    }\n",
       "\n",
       "    .dataframe thead th {\n",
       "        text-align: right;\n",
       "    }\n",
       "</style>\n",
       "<table border=\"1\" class=\"dataframe\">\n",
       "  <thead>\n",
       "    <tr style=\"text-align: right;\">\n",
       "      <th></th>\n",
       "      <th>Company \\n(Maker-if known)</th>\n",
       "      <th>Specific Bean Origin\\nor Bar Name</th>\n",
       "      <th>REF</th>\n",
       "      <th>Review\\nDate</th>\n",
       "      <th>Cocoa\\nPercent</th>\n",
       "      <th>Company\\nLocation</th>\n",
       "      <th>Rating</th>\n",
       "      <th>Bean\\nType</th>\n",
       "      <th>Broad Bean\\nOrigin</th>\n",
       "    </tr>\n",
       "  </thead>\n",
       "  <tbody>\n",
       "    <tr>\n",
       "      <th>1790</th>\n",
       "      <td>Zotter</td>\n",
       "      <td>Peru</td>\n",
       "      <td>647</td>\n",
       "      <td>2011</td>\n",
       "      <td>70%</td>\n",
       "      <td>Austria</td>\n",
       "      <td>3.75</td>\n",
       "      <td></td>\n",
       "      <td>Peru</td>\n",
       "    </tr>\n",
       "    <tr>\n",
       "      <th>1791</th>\n",
       "      <td>Zotter</td>\n",
       "      <td>Congo</td>\n",
       "      <td>749</td>\n",
       "      <td>2011</td>\n",
       "      <td>65%</td>\n",
       "      <td>Austria</td>\n",
       "      <td>3.00</td>\n",
       "      <td>Forastero</td>\n",
       "      <td>Congo</td>\n",
       "    </tr>\n",
       "    <tr>\n",
       "      <th>1792</th>\n",
       "      <td>Zotter</td>\n",
       "      <td>Kerala State</td>\n",
       "      <td>749</td>\n",
       "      <td>2011</td>\n",
       "      <td>65%</td>\n",
       "      <td>Austria</td>\n",
       "      <td>3.50</td>\n",
       "      <td>Forastero</td>\n",
       "      <td>India</td>\n",
       "    </tr>\n",
       "    <tr>\n",
       "      <th>1793</th>\n",
       "      <td>Zotter</td>\n",
       "      <td>Kerala State</td>\n",
       "      <td>781</td>\n",
       "      <td>2011</td>\n",
       "      <td>62%</td>\n",
       "      <td>Austria</td>\n",
       "      <td>3.25</td>\n",
       "      <td></td>\n",
       "      <td>India</td>\n",
       "    </tr>\n",
       "    <tr>\n",
       "      <th>1794</th>\n",
       "      <td>Zotter</td>\n",
       "      <td>Brazil, Mitzi Blue</td>\n",
       "      <td>486</td>\n",
       "      <td>2010</td>\n",
       "      <td>65%</td>\n",
       "      <td>Austria</td>\n",
       "      <td>3.00</td>\n",
       "      <td></td>\n",
       "      <td>Brazil</td>\n",
       "    </tr>\n",
       "  </tbody>\n",
       "</table>\n",
       "</div>"
      ],
      "text/plain": [
       "     Company \\n(Maker-if known) Specific Bean Origin\\nor Bar Name  REF  \\\n",
       "1790                     Zotter                              Peru  647   \n",
       "1791                     Zotter                             Congo  749   \n",
       "1792                     Zotter                      Kerala State  749   \n",
       "1793                     Zotter                      Kerala State  781   \n",
       "1794                     Zotter                Brazil, Mitzi Blue  486   \n",
       "\n",
       "      Review\\nDate Cocoa\\nPercent Company\\nLocation  Rating Bean\\nType  \\\n",
       "1790          2011            70%           Austria    3.75              \n",
       "1791          2011            65%           Austria    3.00  Forastero   \n",
       "1792          2011            65%           Austria    3.50  Forastero   \n",
       "1793          2011            62%           Austria    3.25              \n",
       "1794          2010            65%           Austria    3.00              \n",
       "\n",
       "     Broad Bean\\nOrigin  \n",
       "1790               Peru  \n",
       "1791              Congo  \n",
       "1792              India  \n",
       "1793              India  \n",
       "1794             Brazil  "
      ]
     },
     "execution_count": 8,
     "metadata": {},
     "output_type": "execute_result"
    }
   ],
   "source": [
    "df_cacao.tail()"
   ]
  },
  {
   "cell_type": "code",
   "execution_count": 11,
   "id": "aa769cf1",
   "metadata": {},
   "outputs": [
    {
     "data": {
      "text/plain": [
       "(1795, 9)"
      ]
     },
     "execution_count": 11,
     "metadata": {},
     "output_type": "execute_result"
    }
   ],
   "source": [
    "df_cacao.shape"
   ]
  },
  {
   "cell_type": "code",
   "execution_count": 18,
   "id": "41d4bf30",
   "metadata": {},
   "outputs": [
    {
     "name": "stdout",
     "output_type": "stream",
     "text": [
      "<class 'pandas.core.frame.DataFrame'>\n",
      "RangeIndex: 1795 entries, 0 to 1794\n",
      "Data columns (total 9 columns):\n",
      " #   Column                            Non-Null Count  Dtype  \n",
      "---  ------                            --------------  -----  \n",
      " 0   Company \n",
      "(Maker-if known)         1795 non-null   object \n",
      " 1   Specific Bean Origin\n",
      "or Bar Name  1795 non-null   object \n",
      " 2   REF                               1795 non-null   int64  \n",
      " 3   Review\n",
      "Date                       1795 non-null   int64  \n",
      " 4   Cocoa\n",
      "Percent                     1795 non-null   object \n",
      " 5   Company\n",
      "Location                  1795 non-null   object \n",
      " 6   Rating                            1795 non-null   float64\n",
      " 7   Bean\n",
      "Type                         1794 non-null   object \n",
      " 8   Broad Bean\n",
      "Origin                 1794 non-null   object \n",
      "dtypes: float64(1), int64(2), object(6)\n",
      "memory usage: 126.3+ KB\n"
     ]
    }
   ],
   "source": [
    "df_cacao.info()"
   ]
  },
  {
   "cell_type": "code",
   "execution_count": 19,
   "id": "c5fcd12f",
   "metadata": {
    "scrolled": true
   },
   "outputs": [
    {
     "data": {
      "text/plain": [
       "Company \\n(Maker-if known)            object\n",
       "Specific Bean Origin\\nor Bar Name     object\n",
       "REF                                    int64\n",
       "Review\\nDate                           int64\n",
       "Cocoa\\nPercent                        object\n",
       "Company\\nLocation                     object\n",
       "Rating                               float64\n",
       "Bean\\nType                            object\n",
       "Broad Bean\\nOrigin                    object\n",
       "dtype: object"
      ]
     },
     "execution_count": 19,
     "metadata": {},
     "output_type": "execute_result"
    }
   ],
   "source": [
    "df_cacao.dtypes"
   ]
  },
  {
   "cell_type": "markdown",
   "id": "c70014a9",
   "metadata": {},
   "source": [
    "# Data Cleaning"
   ]
  },
  {
   "cell_type": "code",
   "execution_count": 28,
   "id": "ca574120",
   "metadata": {},
   "outputs": [],
   "source": [
    "# Renaming Columns\n",
    "df_cacao.rename(columns = { 'Company\\xa0\\n(Maker-if known)':\"Company_Name\",\n",
    "                            'Specific Bean Origin\\nor Bar Name':\"Bar Origin\",\n",
    "                            'REF':\"Ref\",\n",
    "                            'Review\\nDate':\"Review_Date\",\n",
    "                            'Cocoa\\nPercent':\"Cocoa_Percentage\",\n",
    "                            'Company\\nLocation':\"Company_Location\",\n",
    "                            'Rating': \"Rating\",\n",
    "                            'Bean\\nType': \"Bean_Type\",\n",
    "                            'Broad Bean\\nOrigin': \"Bean_Origin\"}, inplace = True) "
   ]
  },
  {
   "cell_type": "code",
   "execution_count": 29,
   "id": "2924539f",
   "metadata": {},
   "outputs": [
    {
     "data": {
      "text/plain": [
       "Index(['Company_Name', ' Bar Origin', 'Ref', 'Review_Date', 'Cocoa_Percentage',\n",
       "       ' Company_Location', 'Rating', 'Bean_Type', 'Bean_Origin'],\n",
       "      dtype='object')"
      ]
     },
     "execution_count": 29,
     "metadata": {},
     "output_type": "execute_result"
    }
   ],
   "source": [
    "df_cacao.columns"
   ]
  },
  {
   "cell_type": "code",
   "execution_count": 30,
   "id": "83c054c9",
   "metadata": {},
   "outputs": [
    {
     "name": "stdout",
     "output_type": "stream",
     "text": [
      "<class 'pandas.core.frame.DataFrame'>\n",
      "RangeIndex: 1795 entries, 0 to 1794\n",
      "Data columns (total 9 columns):\n",
      " #   Column             Non-Null Count  Dtype  \n",
      "---  ------             --------------  -----  \n",
      " 0   Company_Name       1795 non-null   object \n",
      " 1    Bar Origin        1795 non-null   object \n",
      " 2   Ref                1795 non-null   int64  \n",
      " 3   Review_Date        1795 non-null   int64  \n",
      " 4   Cocoa_Percentage   1795 non-null   object \n",
      " 5    Company_Location  1795 non-null   object \n",
      " 6   Rating             1795 non-null   float64\n",
      " 7   Bean_Type          1794 non-null   object \n",
      " 8   Bean_Origin        1794 non-null   object \n",
      "dtypes: float64(1), int64(2), object(6)\n",
      "memory usage: 126.3+ KB\n"
     ]
    }
   ],
   "source": [
    "df_cacao.info()"
   ]
  },
  {
   "cell_type": "markdown",
   "id": "6a96bb8e",
   "metadata": {},
   "source": [
    "# Describing Data"
   ]
  },
  {
   "cell_type": "code",
   "execution_count": 31,
   "id": "055c3265",
   "metadata": {},
   "outputs": [
    {
     "data": {
      "text/html": [
       "<div>\n",
       "<style scoped>\n",
       "    .dataframe tbody tr th:only-of-type {\n",
       "        vertical-align: middle;\n",
       "    }\n",
       "\n",
       "    .dataframe tbody tr th {\n",
       "        vertical-align: top;\n",
       "    }\n",
       "\n",
       "    .dataframe thead th {\n",
       "        text-align: right;\n",
       "    }\n",
       "</style>\n",
       "<table border=\"1\" class=\"dataframe\">\n",
       "  <thead>\n",
       "    <tr style=\"text-align: right;\">\n",
       "      <th></th>\n",
       "      <th>Company_Name</th>\n",
       "      <th>Bar Origin</th>\n",
       "      <th>Ref</th>\n",
       "      <th>Review_Date</th>\n",
       "      <th>Cocoa_Percentage</th>\n",
       "      <th>Company_Location</th>\n",
       "      <th>Rating</th>\n",
       "      <th>Bean_Type</th>\n",
       "      <th>Bean_Origin</th>\n",
       "    </tr>\n",
       "  </thead>\n",
       "  <tbody>\n",
       "    <tr>\n",
       "      <th>count</th>\n",
       "      <td>1795</td>\n",
       "      <td>1795</td>\n",
       "      <td>1795.000000</td>\n",
       "      <td>1795.000000</td>\n",
       "      <td>1795</td>\n",
       "      <td>1795</td>\n",
       "      <td>1795.000000</td>\n",
       "      <td>1794</td>\n",
       "      <td>1794</td>\n",
       "    </tr>\n",
       "    <tr>\n",
       "      <th>unique</th>\n",
       "      <td>416</td>\n",
       "      <td>1039</td>\n",
       "      <td>NaN</td>\n",
       "      <td>NaN</td>\n",
       "      <td>45</td>\n",
       "      <td>60</td>\n",
       "      <td>NaN</td>\n",
       "      <td>41</td>\n",
       "      <td>100</td>\n",
       "    </tr>\n",
       "    <tr>\n",
       "      <th>top</th>\n",
       "      <td>Soma</td>\n",
       "      <td>Madagascar</td>\n",
       "      <td>NaN</td>\n",
       "      <td>NaN</td>\n",
       "      <td>70%</td>\n",
       "      <td>U.S.A.</td>\n",
       "      <td>NaN</td>\n",
       "      <td></td>\n",
       "      <td>Venezuela</td>\n",
       "    </tr>\n",
       "    <tr>\n",
       "      <th>freq</th>\n",
       "      <td>47</td>\n",
       "      <td>57</td>\n",
       "      <td>NaN</td>\n",
       "      <td>NaN</td>\n",
       "      <td>672</td>\n",
       "      <td>764</td>\n",
       "      <td>NaN</td>\n",
       "      <td>887</td>\n",
       "      <td>214</td>\n",
       "    </tr>\n",
       "    <tr>\n",
       "      <th>mean</th>\n",
       "      <td>NaN</td>\n",
       "      <td>NaN</td>\n",
       "      <td>1035.904735</td>\n",
       "      <td>2012.325348</td>\n",
       "      <td>NaN</td>\n",
       "      <td>NaN</td>\n",
       "      <td>3.185933</td>\n",
       "      <td>NaN</td>\n",
       "      <td>NaN</td>\n",
       "    </tr>\n",
       "    <tr>\n",
       "      <th>std</th>\n",
       "      <td>NaN</td>\n",
       "      <td>NaN</td>\n",
       "      <td>552.886365</td>\n",
       "      <td>2.927210</td>\n",
       "      <td>NaN</td>\n",
       "      <td>NaN</td>\n",
       "      <td>0.478062</td>\n",
       "      <td>NaN</td>\n",
       "      <td>NaN</td>\n",
       "    </tr>\n",
       "    <tr>\n",
       "      <th>min</th>\n",
       "      <td>NaN</td>\n",
       "      <td>NaN</td>\n",
       "      <td>5.000000</td>\n",
       "      <td>2006.000000</td>\n",
       "      <td>NaN</td>\n",
       "      <td>NaN</td>\n",
       "      <td>1.000000</td>\n",
       "      <td>NaN</td>\n",
       "      <td>NaN</td>\n",
       "    </tr>\n",
       "    <tr>\n",
       "      <th>25%</th>\n",
       "      <td>NaN</td>\n",
       "      <td>NaN</td>\n",
       "      <td>576.000000</td>\n",
       "      <td>2010.000000</td>\n",
       "      <td>NaN</td>\n",
       "      <td>NaN</td>\n",
       "      <td>2.875000</td>\n",
       "      <td>NaN</td>\n",
       "      <td>NaN</td>\n",
       "    </tr>\n",
       "    <tr>\n",
       "      <th>50%</th>\n",
       "      <td>NaN</td>\n",
       "      <td>NaN</td>\n",
       "      <td>1069.000000</td>\n",
       "      <td>2013.000000</td>\n",
       "      <td>NaN</td>\n",
       "      <td>NaN</td>\n",
       "      <td>3.250000</td>\n",
       "      <td>NaN</td>\n",
       "      <td>NaN</td>\n",
       "    </tr>\n",
       "    <tr>\n",
       "      <th>75%</th>\n",
       "      <td>NaN</td>\n",
       "      <td>NaN</td>\n",
       "      <td>1502.000000</td>\n",
       "      <td>2015.000000</td>\n",
       "      <td>NaN</td>\n",
       "      <td>NaN</td>\n",
       "      <td>3.500000</td>\n",
       "      <td>NaN</td>\n",
       "      <td>NaN</td>\n",
       "    </tr>\n",
       "    <tr>\n",
       "      <th>max</th>\n",
       "      <td>NaN</td>\n",
       "      <td>NaN</td>\n",
       "      <td>1952.000000</td>\n",
       "      <td>2017.000000</td>\n",
       "      <td>NaN</td>\n",
       "      <td>NaN</td>\n",
       "      <td>5.000000</td>\n",
       "      <td>NaN</td>\n",
       "      <td>NaN</td>\n",
       "    </tr>\n",
       "  </tbody>\n",
       "</table>\n",
       "</div>"
      ],
      "text/plain": [
       "       Company_Name  Bar Origin          Ref  Review_Date Cocoa_Percentage  \\\n",
       "count          1795        1795  1795.000000  1795.000000             1795   \n",
       "unique          416        1039          NaN          NaN               45   \n",
       "top            Soma  Madagascar          NaN          NaN              70%   \n",
       "freq             47          57          NaN          NaN              672   \n",
       "mean            NaN         NaN  1035.904735  2012.325348              NaN   \n",
       "std             NaN         NaN   552.886365     2.927210              NaN   \n",
       "min             NaN         NaN     5.000000  2006.000000              NaN   \n",
       "25%             NaN         NaN   576.000000  2010.000000              NaN   \n",
       "50%             NaN         NaN  1069.000000  2013.000000              NaN   \n",
       "75%             NaN         NaN  1502.000000  2015.000000              NaN   \n",
       "max             NaN         NaN  1952.000000  2017.000000              NaN   \n",
       "\n",
       "        Company_Location       Rating Bean_Type Bean_Origin  \n",
       "count               1795  1795.000000      1794        1794  \n",
       "unique                60          NaN        41         100  \n",
       "top               U.S.A.          NaN             Venezuela  \n",
       "freq                 764          NaN       887         214  \n",
       "mean                 NaN     3.185933       NaN         NaN  \n",
       "std                  NaN     0.478062       NaN         NaN  \n",
       "min                  NaN     1.000000       NaN         NaN  \n",
       "25%                  NaN     2.875000       NaN         NaN  \n",
       "50%                  NaN     3.250000       NaN         NaN  \n",
       "75%                  NaN     3.500000       NaN         NaN  \n",
       "max                  NaN     5.000000       NaN         NaN  "
      ]
     },
     "execution_count": 31,
     "metadata": {},
     "output_type": "execute_result"
    }
   ],
   "source": [
    "df_cacao.describe( include = 'all')"
   ]
  },
  {
   "cell_type": "code",
   "execution_count": 32,
   "id": "69822f9c",
   "metadata": {},
   "outputs": [
    {
     "data": {
      "text/plain": [
       "array(['\\xa0', 'Criollo', 'Trinitario', 'Forastero (Arriba)', 'Forastero',\n",
       "       'Forastero (Nacional)', 'Criollo, Trinitario',\n",
       "       'Criollo (Porcelana)', 'Blend', 'Trinitario (85% Criollo)',\n",
       "       'Forastero (Catongo)', 'Forastero (Parazinho)',\n",
       "       'Trinitario, Criollo', 'CCN51', 'Criollo (Ocumare)', 'Nacional',\n",
       "       'Criollo (Ocumare 61)', 'Criollo (Ocumare 77)',\n",
       "       'Criollo (Ocumare 67)', 'Criollo (Wild)', 'Beniano', 'Amazon mix',\n",
       "       'Trinitario, Forastero', 'Forastero (Arriba) ASS', 'Criollo, +',\n",
       "       'Amazon', 'Amazon, ICS', 'EET', 'Blend-Forastero,Criollo',\n",
       "       'Trinitario (Scavina)', 'Criollo, Forastero', 'Matina',\n",
       "       'Forastero(Arriba, CCN)', 'Nacional (Arriba)',\n",
       "       'Forastero (Arriba) ASSS', 'Forastero, Trinitario',\n",
       "       'Forastero (Amelonado)', nan, 'Trinitario, Nacional',\n",
       "       'Trinitario (Amelonado)', 'Trinitario, TCGA', 'Criollo (Amarru)'],\n",
       "      dtype=object)"
      ]
     },
     "execution_count": 32,
     "metadata": {},
     "output_type": "execute_result"
    }
   ],
   "source": [
    "df_cacao['Bean_Type'].unique()"
   ]
  },
  {
   "cell_type": "markdown",
   "id": "e22b1491",
   "metadata": {},
   "source": [
    "Since'\\xa0' is an improper value we are going to replace it with NaN"
   ]
  },
  {
   "cell_type": "code",
   "execution_count": 33,
   "id": "729865e7",
   "metadata": {},
   "outputs": [],
   "source": [
    "df_cacao = df_cacao.replace(u'\\xa0', np.NaN)"
   ]
  },
  {
   "cell_type": "markdown",
   "id": "cf347925",
   "metadata": {},
   "source": [
    "# Checking for Duplicates"
   ]
  },
  {
   "cell_type": "code",
   "execution_count": 34,
   "id": "83417e50",
   "metadata": {},
   "outputs": [
    {
     "data": {
      "text/html": [
       "<div>\n",
       "<style scoped>\n",
       "    .dataframe tbody tr th:only-of-type {\n",
       "        vertical-align: middle;\n",
       "    }\n",
       "\n",
       "    .dataframe tbody tr th {\n",
       "        vertical-align: top;\n",
       "    }\n",
       "\n",
       "    .dataframe thead th {\n",
       "        text-align: right;\n",
       "    }\n",
       "</style>\n",
       "<table border=\"1\" class=\"dataframe\">\n",
       "  <thead>\n",
       "    <tr style=\"text-align: right;\">\n",
       "      <th></th>\n",
       "      <th>Company_Name</th>\n",
       "      <th>Bar Origin</th>\n",
       "      <th>Ref</th>\n",
       "      <th>Review_Date</th>\n",
       "      <th>Cocoa_Percentage</th>\n",
       "      <th>Company_Location</th>\n",
       "      <th>Rating</th>\n",
       "      <th>Bean_Type</th>\n",
       "      <th>Bean_Origin</th>\n",
       "    </tr>\n",
       "  </thead>\n",
       "  <tbody>\n",
       "  </tbody>\n",
       "</table>\n",
       "</div>"
      ],
      "text/plain": [
       "Empty DataFrame\n",
       "Columns: [Company_Name,  Bar Origin, Ref, Review_Date, Cocoa_Percentage,  Company_Location, Rating, Bean_Type, Bean_Origin]\n",
       "Index: []"
      ]
     },
     "execution_count": 34,
     "metadata": {},
     "output_type": "execute_result"
    }
   ],
   "source": [
    "df_cacao[df_cacao.duplicated()]"
   ]
  },
  {
   "cell_type": "markdown",
   "id": "0477a4a6",
   "metadata": {},
   "source": [
    "There are no duplicated values"
   ]
  },
  {
   "cell_type": "markdown",
   "id": "3e52dcf6",
   "metadata": {},
   "source": [
    "# Checking for Missing Values"
   ]
  },
  {
   "cell_type": "code",
   "execution_count": 35,
   "id": "572615cc",
   "metadata": {},
   "outputs": [
    {
     "data": {
      "text/plain": [
       "Company_Name           0\n",
       " Bar Origin            0\n",
       "Ref                    0\n",
       "Review_Date            0\n",
       "Cocoa_Percentage       0\n",
       " Company_Location      0\n",
       "Rating                 0\n",
       "Bean_Type            888\n",
       "Bean_Origin           74\n",
       "dtype: int64"
      ]
     },
     "execution_count": 35,
     "metadata": {},
     "output_type": "execute_result"
    }
   ],
   "source": [
    "df_cacao.isnull().sum()"
   ]
  },
  {
   "cell_type": "code",
   "execution_count": 36,
   "id": "59106f1e",
   "metadata": {},
   "outputs": [],
   "source": [
    "# Percentage of Missing Values\n",
    "Percentage_Missing= df_cacao.isnull().sum()/len(df_cacao)"
   ]
  },
  {
   "cell_type": "code",
   "execution_count": 37,
   "id": "7d25da08",
   "metadata": {},
   "outputs": [
    {
     "data": {
      "text/plain": [
       "Company_Name         0.000000\n",
       " Bar Origin          0.000000\n",
       "Ref                  0.000000\n",
       "Review_Date          0.000000\n",
       "Cocoa_Percentage     0.000000\n",
       " Company_Location    0.000000\n",
       "Rating               0.000000\n",
       "Bean_Type            0.494708\n",
       "Bean_Origin          0.041226\n",
       "dtype: float64"
      ]
     },
     "execution_count": 37,
     "metadata": {},
     "output_type": "execute_result"
    }
   ],
   "source": [
    "Percentage_Missing"
   ]
  },
  {
   "cell_type": "markdown",
   "id": "fd753c87",
   "metadata": {},
   "source": [
    "Since Bean_Type has 49% of it data missing, the column will be dropped"
   ]
  },
  {
   "cell_type": "markdown",
   "id": "c237aea3",
   "metadata": {},
   "source": [
    "# Dropping Columns"
   ]
  },
  {
   "cell_type": "code",
   "execution_count": 38,
   "id": "6e562328",
   "metadata": {},
   "outputs": [
    {
     "data": {
      "text/plain": [
       "Company_Name          0\n",
       " Bar Origin           0\n",
       "Ref                   0\n",
       "Review_Date           0\n",
       "Cocoa_Percentage      0\n",
       " Company_Location     0\n",
       "Rating                0\n",
       "Bean_Origin          74\n",
       "dtype: int64"
      ]
     },
     "execution_count": 38,
     "metadata": {},
     "output_type": "execute_result"
    }
   ],
   "source": [
    "df_cacao = df_cacao.drop('Bean_Type', axis= 1)\n",
    "df_cacao.isnull().sum()"
   ]
  },
  {
   "cell_type": "code",
   "execution_count": 39,
   "id": "d4b440da",
   "metadata": {},
   "outputs": [
    {
     "name": "stdout",
     "output_type": "stream",
     "text": [
      "Bean_Origin\n"
     ]
    }
   ],
   "source": [
    "# Since Bean_Orgin has 4% missing, those columns will be dropped\n",
    "# Checking if Mixed data type\n",
    "for col in df_cacao.columns.tolist():\n",
    "    weird = (df_cacao[[col]].applymap(type) != df_cacao[[col]].iloc[0].apply(type)).any(axis = 1)\n",
    "    if len (df_cacao[weird]) > 0:\n",
    "        print (col)\n",
    "        "
   ]
  },
  {
   "cell_type": "code",
   "execution_count": 40,
   "id": "ad26934e",
   "metadata": {},
   "outputs": [],
   "source": [
    "# Changing Mixed Data to a string\n",
    "df_cacao['Bean_Origin'] = df_cacao['Bean_Origin'].astype('str')"
   ]
  },
  {
   "cell_type": "code",
   "execution_count": 41,
   "id": "d3997aad",
   "metadata": {},
   "outputs": [
    {
     "data": {
      "text/plain": [
       "Company_Name         0\n",
       " Bar Origin          0\n",
       "Ref                  0\n",
       "Review_Date          0\n",
       "Cocoa_Percentage     0\n",
       " Company_Location    0\n",
       "Rating               0\n",
       "Bean_Origin          0\n",
       "dtype: int64"
      ]
     },
     "execution_count": 41,
     "metadata": {},
     "output_type": "execute_result"
    }
   ],
   "source": [
    "df_cacao_cleaned = df_cacao.dropna(axis=0)\n",
    "df_cacao_cleaned.isnull().sum()"
   ]
  },
  {
   "cell_type": "markdown",
   "id": "9672106c",
   "metadata": {},
   "source": [
    "No Null Values"
   ]
  },
  {
   "cell_type": "code",
   "execution_count": 42,
   "id": "9f9655e3",
   "metadata": {},
   "outputs": [
    {
     "data": {
      "text/plain": [
       "(1795, 8)"
      ]
     },
     "execution_count": 42,
     "metadata": {},
     "output_type": "execute_result"
    }
   ],
   "source": [
    "df_cacao_cleaned.shape"
   ]
  },
  {
   "cell_type": "code",
   "execution_count": 46,
   "id": "4f51b2a4",
   "metadata": {},
   "outputs": [
    {
     "data": {
      "text/plain": [
       "array(['France', 'U.S.A.', 'Fiji', 'Ecuador', 'Mexico', 'Switzerland',\n",
       "       'Netherlands', 'Spain', 'Peru', 'Canada', 'Italy', 'Brazil',\n",
       "       'U.K.', 'Australia', 'Wales', 'Belgium', 'Germany', 'Russia',\n",
       "       'Puerto Rico', 'Venezuela', 'Colombia', 'Japan', 'New Zealand',\n",
       "       'Costa Rica', 'South Korea', 'Amsterdam', 'Scotland', 'Martinique',\n",
       "       'Sao Tome', 'Argentina', 'Guatemala', 'South Africa', 'Bolivia',\n",
       "       'St. Lucia', 'Portugal', 'Singapore', 'Denmark', 'Vietnam',\n",
       "       'Grenada', 'Israel', 'India', 'Czech Republic',\n",
       "       'Domincan Republic', 'Finland', 'Madagascar', 'Philippines',\n",
       "       'Sweden', 'Poland', 'Austria', 'Honduras', 'Nicaragua',\n",
       "       'Lithuania', 'Niacragua', 'Chile', 'Ghana', 'Iceland', 'Eucador',\n",
       "       'Hungary', 'Suriname', 'Ireland'], dtype=object)"
      ]
     },
     "execution_count": 46,
     "metadata": {},
     "output_type": "execute_result"
    }
   ],
   "source": [
    "df_cacao_cleaned[' Company_Location'].unique()"
   ]
  },
  {
   "cell_type": "code",
   "execution_count": 50,
   "id": "38f787ba",
   "metadata": {},
   "outputs": [],
   "source": [
    "# Changing abbreviations to full names and fixing typos\n",
    "df_cacao_cleaned[' Company_Location']= df_cacao_cleaned[' Company_Location'].replace('Eucador', 'Ecuador')\\\n",
    "                                                                            .replace('U.S.A.', 'United States of America')\\\n",
    "                                                                            .replace('U.K.', 'United Kingdom')\\\n",
    "                                                                            .replace('Domincan Republic', 'Dominican Republic')\\\n",
    "                                                                            .replace('Niacragua', 'Nicaragua')"
   ]
  },
  {
   "cell_type": "code",
   "execution_count": 51,
   "id": "3a5d2bbe",
   "metadata": {},
   "outputs": [
    {
     "data": {
      "text/plain": [
       "United States of America    764\n",
       "France                      156\n",
       "Canada                      125\n",
       "United Kingdom               96\n",
       "Italy                        63\n",
       "Ecuador                      55\n",
       "Australia                    49\n",
       "Belgium                      40\n",
       "Switzerland                  38\n",
       "Germany                      35\n",
       "Austria                      26\n",
       "Spain                        25\n",
       "Colombia                     23\n",
       "Hungary                      22\n",
       "Venezuela                    20\n",
       "Brazil                       17\n",
       "Madagascar                   17\n",
       "Peru                         17\n",
       "Japan                        17\n",
       "New Zealand                  17\n",
       "Denmark                      15\n",
       "Vietnam                      11\n",
       "Scotland                     10\n",
       "Guatemala                    10\n",
       "Israel                        9\n",
       "Argentina                     9\n",
       "Costa Rica                    9\n",
       "Poland                        8\n",
       "Lithuania                     6\n",
       "Nicaragua                     6\n",
       "Honduras                      6\n",
       "Dominican Republic            5\n",
       "South Korea                   5\n",
       "Sweden                        5\n",
       "Netherlands                   4\n",
       "Fiji                          4\n",
       "Mexico                        4\n",
       "Amsterdam                     4\n",
       "Ireland                       4\n",
       "Puerto Rico                   4\n",
       "Sao Tome                      4\n",
       "Iceland                       3\n",
       "South Africa                  3\n",
       "Singapore                     3\n",
       "Grenada                       3\n",
       "Portugal                      3\n",
       "Finland                       2\n",
       "St. Lucia                     2\n",
       "Bolivia                       2\n",
       "Chile                         2\n",
       "Philippines                   1\n",
       "Russia                        1\n",
       "Wales                         1\n",
       "Martinique                    1\n",
       "Ghana                         1\n",
       "Czech Republic                1\n",
       "India                         1\n",
       "Suriname                      1\n",
       "Name:  Company_Location, dtype: int64"
      ]
     },
     "execution_count": 51,
     "metadata": {},
     "output_type": "execute_result"
    }
   ],
   "source": [
    "#  Checking Names\n",
    "df_cacao_cleaned[' Company_Location'].value_counts()"
   ]
  },
  {
   "cell_type": "code",
   "execution_count": 52,
   "id": "3d5f7f86",
   "metadata": {},
   "outputs": [
    {
     "data": {
      "text/plain": [
       "(1795, 8)"
      ]
     },
     "execution_count": 52,
     "metadata": {},
     "output_type": "execute_result"
    }
   ],
   "source": [
    "df_cacao_cleaned.shape"
   ]
  },
  {
   "cell_type": "markdown",
   "id": "1fd03c84",
   "metadata": {},
   "source": [
    "# Exporting Data"
   ]
  },
  {
   "cell_type": "code",
   "execution_count": 55,
   "id": "78649648",
   "metadata": {},
   "outputs": [],
   "source": [
    "df_cacao_cleaned.to_csv(os.path.join(path, '02. Prepared Data','df_cacao_cleaned.csv' ))"
   ]
  },
  {
   "cell_type": "code",
   "execution_count": null,
   "id": "11eb951c",
   "metadata": {},
   "outputs": [],
   "source": []
  }
 ],
 "metadata": {
  "kernelspec": {
   "display_name": "Python 3 (ipykernel)",
   "language": "python",
   "name": "python3"
  },
  "language_info": {
   "codemirror_mode": {
    "name": "ipython",
    "version": 3
   },
   "file_extension": ".py",
   "mimetype": "text/x-python",
   "name": "python",
   "nbconvert_exporter": "python",
   "pygments_lexer": "ipython3",
   "version": "3.10.9"
  }
 },
 "nbformat": 4,
 "nbformat_minor": 5
}
